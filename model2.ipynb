{
  "nbformat": 4,
  "nbformat_minor": 0,
  "metadata": {
    "colab": {
      "provenance": []
    },
    "kernelspec": {
      "name": "python3",
      "display_name": "Python 3"
    },
    "language_info": {
      "name": "python"
    }
  },
  "cells": [
    {
      "cell_type": "code",
      "execution_count": null,
      "metadata": {
        "id": "AFbxnuYSPKGE"
      },
      "outputs": [],
      "source": [
        "import random\n",
        "import matplotlib.pyplot as plt\n",
        "\n",
        "#lista agentów\n",
        "agents_old = []\n",
        "agents_new = []\n",
        "\n",
        "#przydział majątku\n",
        "for i in range(0, 100):\n",
        "    money = random.random()\n",
        "    agents_old.append(money)\n",
        "\n",
        "#taki sam współczynnik oszczędności dla wszystkich\n",
        "savings = random.random()\n",
        "\n",
        "#różne współczynniki oszczędności\n",
        "savings1 = random.random()\n",
        "savings2 = random.random()\n",
        "\n",
        "for i in range(10000):\n",
        "  random_agent1 = random.randrange(0, len(agents_old)-1, 1)\n",
        "  agent1 = agents_old[random_agent1]\n",
        "  agents_old.remove(agent1)\n",
        "\n",
        "  random_agent2 = random.randrange(0, len(agents_old)-1, 1)\n",
        "  agent2 = agents_old[random_agent2]\n",
        "  agents_old.remove(agent2)\n",
        "\n",
        "  r = random.random()\n",
        "\n",
        "  #bez oszczędności\n",
        "  #delta_m = r * (agent1+agent2) - agent1\n",
        "\n",
        "  #takie same oszczędności\n",
        "  delta_m = (1 - savings) * (r *(agent1 + agent2) - agent1)\n",
        "\n",
        "  #różne oszczędności\n",
        "  #delta_m = r * (1 - savings2) * agent2 - (1 - savings1) * (1 - r) * agent1\n",
        "\n",
        "  agent1 = agent1 + delta_m\n",
        "  agent2 = agent2 - delta_m\n",
        "\n",
        "  while((agent1 < 0 ) or (agent2 < 0)):\n",
        "    r = random.random()\n",
        "\n",
        "    #bez oszczędności\n",
        "    #delta_m = r * (agent1+agent2) - agent1\n",
        "\n",
        "    #takie same oszczędności\n",
        "    delta_m = (1 - savings) * (r *(agent1 + agent2) - agent1)\n",
        "\n",
        "    #różne oszczędności\n",
        "    #delta_m = r * (1 - savings2) * agent2 - (1 - savings1) * (1 - r) * agent1\n",
        "\n",
        "    agent1 = agent1 + delta_m\n",
        "    agent2 = agent2 - delta_m\n",
        "\n",
        "  \n",
        "  agents_old.append(agent1)\n",
        "  agents_old.append(agent2)\n",
        "\n",
        "plt.hist(agents_old)\n",
        "plt.show() \n"
      ]
    }
  ]
}