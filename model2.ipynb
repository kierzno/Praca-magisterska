{
  "nbformat": 4,
  "nbformat_minor": 0,
  "metadata": {
    "colab": {
      "provenance": []
    },
    "kernelspec": {
      "name": "python3",
      "display_name": "Python 3"
    },
    "language_info": {
      "name": "python"
    }
  },
  "cells": [
    {
      "cell_type": "code",
      "execution_count": 14,
      "metadata": {
        "id": "AFbxnuYSPKGE",
        "colab": {
          "base_uri": "https://localhost:8080/",
          "height": 430
        },
        "outputId": "06292d6f-bd13-4610-9e60-02c2ed432393"
      },
      "outputs": [
        {
          "output_type": "display_data",
          "data": {
            "text/plain": [
              "<Figure size 640x480 with 1 Axes>"
            ],
            "image/png": "[encoded data removed]"
          },
          "metadata": {}
        }
      ],
      "source": [
        "import random\n",
        "import matplotlib.pyplot as plt\n",
        "\n",
        "#lista agentów\n",
        "agents = []\n",
        "\n",
        "#przydział majątku\n",
        "for i in range(0, 1000):\n",
        "    money = random.random()\n",
        "    agents.append(money)\n",
        "\n",
        "#taki sam współczynnik oszczędności dla wszystkich\n",
        "savings = random.random()\n",
        "\n",
        "#różne współczynniki oszczędności\n",
        "savings1 = random.random()\n",
        "savings2 = random.random()\n",
        "\n",
        "#wymiana pieniędzy\n",
        "def exchange(agent1, agent2):\n",
        "  r = random.random()\n",
        "\n",
        "  #bez oszczędności\n",
        "  delta_m = r * (agent1+agent2) - agent1\n",
        "\n",
        "  #takie same oszczędności\n",
        "  #delta_m = (1 - savings) * (r *(agent1 + agent2) - agent1)\n",
        "\n",
        "  #różne oszczędności\n",
        "  #delta_m = r * (1 - savings2) * agent2 - (1 - savings1) * (1 - r) * agent1\n",
        "\n",
        "  agent1 = agent1 + delta_m\n",
        "  agent2 = agent2 - delta_m\n",
        "\n",
        "  return agent1, agent2\n",
        "\n",
        "\n",
        "for i in range(1000000):\n",
        "  random_agent1 = random.randrange(0, len(agents)-1, 1)\n",
        "  agent1 = agents[random_agent1]\n",
        "  agents.remove(agent1)\n",
        "\n",
        "  random_agent2 = random.randrange(0, len(agents)-1, 1)\n",
        "  agent2 = agents[random_agent2]\n",
        "  agents.remove(agent2)\n",
        "\n",
        "  agent1, agent2 = exchange(agent1, agent2)\n",
        "  \n",
        "  while((agent1 < 0 ) or (agent2 < 0)):\n",
        "    agent1, agent2 = exchange(agent1, agent2)\n",
        "  \n",
        "  agents.append(agent1)\n",
        "  agents.append(agent2)\n",
        "\n",
        "plt.hist(agents)\n",
        "plt.show() \n"
      ]
    }
  ]
}