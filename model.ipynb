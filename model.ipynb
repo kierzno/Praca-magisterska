{
  "nbformat": 4,
  "nbformat_minor": 0,
  "metadata": {
    "colab": {
      "provenance": []
    },
    "kernelspec": {
      "name": "python3",
      "display_name": "Python 3"
    },
    "language_info": {
      "name": "python"
    }
  },
  "cells": [
    {
      "cell_type": "code",
      "execution_count": 25,
      "metadata": {
        "id": "AFbxnuYSPKGE",
        "colab": {
          "base_uri": "https://localhost:8080/",
          "height": 430
        },
        "outputId": "45941eef-882c-45d6-a2f5-cc3a2d0f2bfe"
      },
      "outputs": [
        {
          "output_type": "display_data",
          "data": {
            "text/plain": [
              "<Figure size 640x480 with 1 Axes>"
            ],
            "image/png": "[encoded data removed]"
          },
          "metadata": {}
        }
      ],
      "source": [
        "import random\n",
        "import matplotlib.pyplot as plt\n",
        "import numpy as np\n",
        "\n",
        "#krok czasowy\n",
        "T = 10\n",
        "\n",
        "#liczba agentów\n",
        "N = 100\n",
        "agents = []\n",
        "for i in range(0, N):\n",
        "    a = 0 + i\n",
        "    agents.append(a)\n",
        "\n",
        "#lista majątków\n",
        "money = []\n",
        "for i in range(0, N):\n",
        "    m = 1\n",
        "    money.append(m)\n",
        "\n",
        "#współczynniki oszczędzania\n",
        "savings = []\n",
        "for i in range(0, N):\n",
        "    s = 0.3\n",
        "    savings.append(s)\n",
        "\n",
        "#współczynniki wykształcenia\n",
        "education = []\n",
        "for i in range(0, N):\n",
        "    e = random.randint(0, 2)\n",
        "    education.append(e)\n",
        "\n",
        "#współczynnik umiejętności\n",
        "skills = []\n",
        "for i in range(0, N):\n",
        "    s = 0\n",
        "    skills.append(s)\n",
        "\n",
        "for i in range(0, N):\n",
        "  if(education[i] == 0):\n",
        "    skills[i] = np.random.normal(1, 0.2, N)\n",
        "  elif(education[i] == 1):\n",
        "    skills[i] = np.random.normal(1, 0.2, N)\n",
        "  elif(education[i] == 2):\n",
        "    skills[i] = np.random.normal(1, 0.2, N)\n",
        "\n",
        "\n",
        "#wymiana pieniędzy\n",
        "def exchange(agent1, agent2):\n",
        "  r = random.random()\n",
        "\n",
        "  delta_m = r * (1 - savings[agent2]) * money[agent2] - (1 - savings[agent1]) * (1 - r) * money[agent1]\n",
        "\n",
        "  money[agent1] = money[agent1] + delta_m\n",
        "  money[agent2] = money[agent2] - delta_m\n",
        "\n",
        "  return agent1, agent2\n",
        "\n",
        "for t in range(T):\n",
        "  for n in range(N):\n",
        "\n",
        "    #prawdopodobieństwo wylosowania\n",
        "    prob = []\n",
        "    for i in range(0,N):\n",
        "      p = money[i]/sum(money)\n",
        "      prob.append(p)\n",
        "\n",
        "    random_agents = np.random.choice(agents, 2, replace = False, p = prob)\n",
        "    agent1 = random_agents[0]\n",
        "    agent2 = random_agents[1] \n",
        "\n",
        "    exchange(agent1, agent2)\n",
        "\n",
        "plt.hist(money)\n",
        "plt.show() \n"
      ]
    }
  ]
}