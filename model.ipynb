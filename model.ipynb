{
  "nbformat": 4,
  "nbformat_minor": 0,
  "metadata": {
    "colab": {
      "provenance": []
    },
    "kernelspec": {
      "name": "python3",
      "display_name": "Python 3"
    },
    "language_info": {
      "name": "python"
    }
  },
  "cells": [
    {
      "cell_type": "code",
      "execution_count": 2,
      "metadata": {
        "colab": {
          "base_uri": "https://localhost:8080/",
          "height": 265
        },
        "id": "yfT1ULeng4cc",
        "outputId": "1deb75bc-cf4c-4a4c-913b-40d7af9f18ff"
      },
      "outputs": [
        {
          "output_type": "display_data",
          "data": {
            "text/plain": [
              "<Figure size 432x288 with 1 Axes>"
            ],
            "image/png": "[encoded data removed]"
          },
          "metadata": {
            "needs_background": "light"
          }
        }
      ],
      "source": [
        "import random\n",
        "import matplotlib.pyplot as plt\n",
        "\n",
        "#lista agentów\n",
        "agents_old = []\n",
        "agents_new = []\n",
        "\n",
        "#przydział majątku\n",
        "for i in range(0, 100):\n",
        "    money = random.random()\n",
        "    agents_old.append(money)\n",
        "\n",
        "#bez oszcędności\n",
        "savings = 0\n",
        "\n",
        "#taki sam współczynnik oszczędności dla wszystkich\n",
        "#savings = random.random()\n",
        "\n",
        "\n",
        "length = len(agents_old) // 2 - 1\n",
        "\n",
        "for i in range(10):\n",
        "  for j in range(length):\n",
        "    #losowanie 1. agenta\n",
        "    random_agent1 = random.randrange(0, len(agents_old)-1, 1)\n",
        "    agent1 = agents_old[random_agent1]\n",
        "    agents_old.remove(agent1)\n",
        "\n",
        "    #losowanie 2. agenta\n",
        "    random_agent2 = random.randrange(0, len(agents_old)-1, 1)\n",
        "    agent2 = agents_old[random_agent2]\n",
        "    agents_old.remove(agent2)\n",
        "\n",
        "    #wymiana pieniędzy\n",
        "    r = random.random()\n",
        "    while (1-savings)*(agent1 - r) < 0:\n",
        "      r = random.random()\n",
        "\n",
        "    agent1 = (1-savings)*(agent1 - r)\n",
        "    agent2 = (1-savings)*(agent2 + r)\n",
        "\n",
        "    agents_new.append(agent1)\n",
        "    agents_new.append(agent2)\n",
        "    \n",
        "  #to samo dla dwóch ostatnich agentów\n",
        "  agent1 = agents_old[0]\n",
        "  agent2 = agents_old[1]\n",
        "  agents_old.remove(agent1)\n",
        "  agents_old.remove(agent2)\n",
        "\n",
        "  r = random.random()\n",
        "\n",
        "  while (1-savings)*(agent1 - r) < 0:\n",
        "    r = random.random()\n",
        "\n",
        "  agent1 = (1-savings)*(agent1 - r)\n",
        "  agent2 = (1-savings)*(agent2 + r)\n",
        "\n",
        "  agents_new.append(agent1)\n",
        "  agents_new.append(agent2)\n",
        "\n",
        "  agents_old = agents_new[:]\n",
        "  agents_new = []\n",
        "\n",
        "plt.hist(agents_old)\n",
        "plt.show() \n",
        "\n",
        "\n",
        "\n",
        "  \n",
        "  \n"
      ]
    }
  ]
}