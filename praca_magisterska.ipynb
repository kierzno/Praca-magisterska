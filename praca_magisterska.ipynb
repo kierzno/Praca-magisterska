{
  "nbformat": 4,
  "nbformat_minor": 0,
  "metadata": {
    "colab": {
      "provenance": []
    },
    "kernelspec": {
      "name": "python3",
      "display_name": "Python 3"
    },
    "language_info": {
      "name": "python"
    }
  },
  "cells": [
    {
      "cell_type": "code",
      "execution_count": null,
      "metadata": {
        "colab": {
          "base_uri": "https://localhost:8080/",
          "height": 270
        },
        "id": "gd09E-72K-kb",
        "outputId": "b2f9a79c-fe64-42f8-9eb4-d59f9b0b6826"
      },
      "outputs": [
        {
          "output_type": "error",
          "ename": "ValueError",
          "evalue": "ignored",
          "traceback": [
            "\u001b[0;31m---------------------------------------------------------------------------\u001b[0m",
            "\u001b[0;31mValueError\u001b[0m                                Traceback (most recent call last)",
            "\u001b[0;32m<ipython-input-31-06364c6ee5fd>\u001b[0m in \u001b[0;36m<cell line: 55>\u001b[0;34m()\u001b[0m\n\u001b[1;32m     64\u001b[0m       \u001b[0mprob\u001b[0m\u001b[0;34m.\u001b[0m\u001b[0mappend\u001b[0m\u001b[0;34m(\u001b[0m\u001b[0mp\u001b[0m\u001b[0;34m)\u001b[0m\u001b[0;34m\u001b[0m\u001b[0;34m\u001b[0m\u001b[0m\n\u001b[1;32m     65\u001b[0m \u001b[0;34m\u001b[0m\u001b[0m\n\u001b[0;32m---> 66\u001b[0;31m     \u001b[0mrandom_agents\u001b[0m \u001b[0;34m=\u001b[0m \u001b[0mnp\u001b[0m\u001b[0;34m.\u001b[0m\u001b[0mrandom\u001b[0m\u001b[0;34m.\u001b[0m\u001b[0mchoice\u001b[0m\u001b[0;34m(\u001b[0m\u001b[0magents\u001b[0m\u001b[0;34m,\u001b[0m \u001b[0;36m2\u001b[0m\u001b[0;34m,\u001b[0m \u001b[0mreplace\u001b[0m \u001b[0;34m=\u001b[0m \u001b[0;32mFalse\u001b[0m\u001b[0;34m,\u001b[0m \u001b[0mp\u001b[0m \u001b[0;34m=\u001b[0m \u001b[0mprob\u001b[0m\u001b[0;34m)\u001b[0m\u001b[0;34m\u001b[0m\u001b[0;34m\u001b[0m\u001b[0m\n\u001b[0m\u001b[1;32m     67\u001b[0m     \u001b[0magent1\u001b[0m \u001b[0;34m=\u001b[0m \u001b[0mrandom_agents\u001b[0m\u001b[0;34m[\u001b[0m\u001b[0;36m0\u001b[0m\u001b[0;34m]\u001b[0m\u001b[0;34m\u001b[0m\u001b[0;34m\u001b[0m\u001b[0m\n\u001b[1;32m     68\u001b[0m     \u001b[0magent2\u001b[0m \u001b[0;34m=\u001b[0m \u001b[0mrandom_agents\u001b[0m\u001b[0;34m[\u001b[0m\u001b[0;36m1\u001b[0m\u001b[0;34m]\u001b[0m\u001b[0;34m\u001b[0m\u001b[0;34m\u001b[0m\u001b[0m\n",
            "\u001b[0;32mmtrand.pyx\u001b[0m in \u001b[0;36mnumpy.random.mtrand.RandomState.choice\u001b[0;34m()\u001b[0m\n",
            "\u001b[0;31mValueError\u001b[0m: probabilities do not sum to 1"
          ]
        }
      ],
      "source": [
        "from numpy.core.multiarray import zeros\n",
        "import random\n",
        "import matplotlib.pyplot as plt\n",
        "import numpy as np\n",
        "import csv\n",
        "\n",
        "#parametry\n",
        "T = 10\n",
        "N = 1000\n",
        "M = N\n",
        "gamma = 0\n",
        "n_p = 1\n",
        "n_s = 0\n",
        "n_t = 1-n_p-n_s\n",
        "delta = 0\n",
        "\n",
        "#lista indkesów agentów\n",
        "agents = []\n",
        "for i in range(0, N):\n",
        "    a = 0 + i\n",
        "    agents.append(a)\n",
        "\n",
        "#lista majątków\n",
        "money = []\n",
        "for i in range(0, N):\n",
        "    m = M/N\n",
        "    money.append(m)\n",
        "\n",
        "#współczynniki wykształcenia\n",
        "education = []\n",
        "for j in range(round(N*n_p)):\n",
        "  e = 0\n",
        "  education.append(e)\n",
        "for j in range(round(N*n_s)):\n",
        "  e = 1\n",
        "  education.append(e)\n",
        "for j in range(round(N*n_t)):\n",
        "  e = 2\n",
        "  education.append(e)\n",
        "\n",
        "#współczynnik umiejętności\n",
        "skills = np.zeros(N)\n",
        "for i in range(0, N):\n",
        "  if(n_p == 1 and delta == 0):\n",
        "    skills[i] = 1\n",
        "  else:\n",
        "    skills[i] = abs(np.random.normal(1 + education[i] * delta, 0.2))\n",
        "  \n",
        "#losowanie epsilonów\n",
        "epsilon = []\n",
        "for i in range(N*T):\n",
        "  e = random.random()\n",
        "  epsilon.append(e)\n",
        "\n",
        "for t in range(T):\n",
        "  for n in range(N):\n",
        "\n",
        "    #prawdopodobieństwo wylosowania\n",
        "    prob = []\n",
        "    m = []\n",
        "    m = money\n",
        "    for i in range(0,N):\n",
        "      p = (m[i]**gamma)/N\n",
        "      prob.append(p)\n",
        "\n",
        "    random_agents = np.random.choice(agents, 2, replace = False, p = prob)\n",
        "    agent1 = random_agents[0]\n",
        "    agent2 = random_agents[1] \n",
        "\n",
        "    money[agent1] = (money[agent1] + money[agent2]) * epsilon[(t-1)*N-n]**(skills[agent2]/skills[agent1])\n",
        "    money[agent1] = (money[agent1] + money[agent2]) * (1-epsilon[(t-1)*N-n]**(skills[agent2]/skills[agent1]))\n",
        "\n",
        "plt.hist(money, 50)\n",
        "plt.show() \n",
        "\n",
        "counts,bin_edges = np.histogram(money,50)\n",
        "bin_centres = (bin_edges[:-1] + bin_edges[1:])/2.\n",
        "plt.plot(bin_centres, counts, 'o')\n",
        "plt.show()\n",
        "\n",
        "f = open('csv_file', 'w')\n",
        "writer = csv.writer(f)\n",
        "writer.writerow(money)\n",
        "f.close()\n",
        "\n"
      ]
    }
  ]
}